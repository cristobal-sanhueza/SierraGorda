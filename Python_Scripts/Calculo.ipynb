{
 "cells": [
  {
   "cell_type": "code",
   "execution_count": 1,
   "metadata": {},
   "outputs": [],
   "source": [
    "import pandas as pd\n",
    "import numpy as np"
   ]
  },
  {
   "cell_type": "code",
   "execution_count": 2,
   "id": "d3908b69",
   "metadata": {},
   "outputs": [],
   "source": [
    "FechaInicio = '20/08/2023'\n",
    "FechaFinal = '20/09/2023'"
   ]
  },
  {
   "cell_type": "code",
   "execution_count": 3,
   "id": "7b5bc3a8",
   "metadata": {},
   "outputs": [],
   "source": [
    "# CALCULOS PCTJE DE ACIERTOS\n",
    "FechaComienzo = FechaInicio.replace('/', '-')\n",
    "\n",
    "FechaTermino = FechaFinal.replace('/', '-')\n",
    "\n",
    "FileName_DataObservada = f\"calidad-aire-dia-hora_Sierra_Gorda_{FechaComienzo}_a_{FechaTermino}.csv\"\n",
    "\n",
    "FileName_DataModelada = f\"calidad-aire-dia-hora_Sierra_Gorda-PRO_{FechaComienzo}_a_{FechaTermino}.csv\"\n",
    "\n",
    "DataObservada = pd.read_csv(f'../Observados/ScrapedGeologger/{FileName_DataObservada}')\n",
    "\n",
    "DataModelada = pd.read_csv(f'../Modelados/ScrapedGeologger/{FileName_DataModelada}')\n",
    "\n",
    "DataObservada['Hora'] = DataObservada['Hora'].astype(str) + ':00'\n",
    "\n",
    "DataObservada['Fecha_y_Hora'] = pd.to_datetime(DataObservada['Fecha'] + ' ' + DataObservada['Hora'], format='%d/%m/%Y %H:%M')\n",
    "\n",
    "DataModelada['Hora'] = DataModelada['Hora'].astype(str) + ':00'\n",
    "\n",
    "DataModelada['Fecha_y_Hora'] = pd.to_datetime(DataModelada['Fecha'] + ' ' + DataModelada['Hora'], format='%d/%m/%Y %H:%M')\n",
    "\n",
    "df_merged = pd.merge(DataObservada[['Fecha_y_Hora', 'MP10 (µg/m³N)']], DataModelada[['Fecha_y_Hora', 'MP10 (µg/m³N)']], on='Fecha_y_Hora', suffixes=('_obs', '_pro'))\n",
    "\n",
    "df_merged['Bueno'] = np.where(\n",
    "    (((df_merged['MP10 (µg/m³N)_obs'] >= 0) & (df_merged['MP10 (µg/m³N)_obs'] <= 130) & \n",
    "      (df_merged['MP10 (µg/m³N)_pro'] >= 0) & (df_merged['MP10 (µg/m³N)_pro'] <= 130)) | \n",
    "     ((df_merged['MP10 (µg/m³N)_obs'] < 0) | (df_merged['MP10 (µg/m³N)_obs'] > 130) & \n",
    "      (df_merged['MP10 (µg/m³N)_pro'] < 0) | (df_merged['MP10 (µg/m³N)_pro'] > 130))), 1, 0)\n",
    "\n",
    "df_merged['Alerta1'] = np.where(\n",
    "    (((df_merged['MP10 (µg/m³N)_obs'] > 130) & (df_merged['MP10 (µg/m³N)_obs'] <= 180) & \n",
    "      (df_merged['MP10 (µg/m³N)_pro'] > 130) & (df_merged['MP10 (µg/m³N)_pro'] <= 180)) | \n",
    "     ((df_merged['MP10 (µg/m³N)_obs'] <= 130) | (df_merged['MP10 (µg/m³N)_obs'] > 180) & \n",
    "      (df_merged['MP10 (µg/m³N)_pro'] <= 130) | (df_merged['MP10 (µg/m³N)_pro'] > 180))), 1, 0)\n",
    "\n",
    "df_merged['Alerta2'] = np.where(\n",
    "    ((df_merged['MP10 (µg/m³N)_obs'] > 180) & (df_merged['MP10 (µg/m³N)_pro'] > 180)) | \n",
    "    ((df_merged['MP10 (µg/m³N)_obs'] < 180) & (df_merged['MP10 (µg/m³N)_pro'] < 180)), 1, 0)\n",
    "\n",
    "pct_bueno = df_merged['Bueno'].sum() / len(df_merged)\n",
    "pct_alerta1 = df_merged['Alerta1'].sum() / len(df_merged)\n",
    "pct_alerta2 = df_merged['Alerta2'].sum() / len(df_merged)\n",
    "\n",
    "promedio = np.mean([pct_bueno, pct_alerta1, pct_alerta2])"
   ]
  },
  {
   "cell_type": "code",
   "execution_count": 4,
   "id": "779f8a63",
   "metadata": {},
   "outputs": [
    {
     "name": "stdout",
     "output_type": "stream",
     "text": [
      "Porcentaje Bueno: 0.9051724137931034\n",
      "Porcentaje Alerta1: 0.9252873563218391\n",
      "Porcentaje Alerta2: 0.7844827586206896\n",
      "Porcentaje Promedio: 0.8716475095785441\n"
     ]
    }
   ],
   "source": [
    "# RESULTADOS\n",
    "print(f'Porcentaje Bueno: {pct_bueno}')\n",
    "print(f'Porcentaje Alerta1: {pct_alerta1}')\n",
    "print(f'Porcentaje Alerta2: {pct_alerta2}')\n",
    "\n",
    "print(f'Porcentaje Promedio: {promedio}')"
   ]
  },
  {
   "cell_type": "code",
   "execution_count": null,
   "id": "24c31870",
   "metadata": {},
   "outputs": [],
   "source": []
  },
  {
   "cell_type": "code",
   "execution_count": null,
   "id": "b11962a4",
   "metadata": {},
   "outputs": [],
   "source": []
  },
  {
   "cell_type": "code",
   "execution_count": null,
   "id": "4cb98127",
   "metadata": {},
   "outputs": [],
   "source": []
  }
 ],
 "metadata": {
  "kernelspec": {
   "display_name": "base",
   "language": "python",
   "name": "python3"
  },
  "language_info": {
   "codemirror_mode": {
    "name": "ipython",
    "version": 3
   },
   "file_extension": ".py",
   "mimetype": "text/x-python",
   "name": "python",
   "nbconvert_exporter": "python",
   "pygments_lexer": "ipython3",
   "version": "3.10.9"
  }
 },
 "nbformat": 4,
 "nbformat_minor": 5
}

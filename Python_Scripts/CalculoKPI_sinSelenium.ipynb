{
 "cells": [
  {
   "cell_type": "code",
   "execution_count": null,
   "metadata": {},
   "outputs": [],
   "source": [
    "import numpy as np\n",
    "import pandas as pd\n",
    "import os\n",
    "import shutil"
   ]
  },
  {
   "cell_type": "code",
   "execution_count": null,
   "metadata": {},
   "outputs": [],
   "source": [
    "FechaInicio = '20/10/2023'\n",
    "FechaFinal = '20/11/2023'"
   ]
  },
  {
   "cell_type": "code",
   "execution_count": null,
   "metadata": {},
   "outputs": [],
   "source": [
    "FechaComienzo = FechaInicio.replace('/', '-')\n",
    "FechaTermino = FechaFinal.replace('/', '-')"
   ]
  },
  {
   "cell_type": "code",
   "execution_count": null,
   "metadata": {},
   "outputs": [],
   "source": [
    "FileName_DataObservada = f\"calidad-aire-dia-hora_Sierra_Gorda_{FechaComienzo}_a_{FechaTermino}.csv\""
   ]
  },
  {
   "cell_type": "code",
   "execution_count": null,
   "metadata": {},
   "outputs": [],
   "source": [
    "FileName_DataModelada = f\"calidad-aire-dia-hora_Sierra_Gorda-PRO_{FechaComienzo}_a_{FechaTermino}.csv\""
   ]
  },
  {
   "cell_type": "code",
   "execution_count": null,
   "metadata": {},
   "outputs": [],
   "source": [
    "DataObservada = pd.read_csv(f'../Observados/ScrapedGeologger/{FileName_DataObservada}')"
   ]
  },
  {
   "cell_type": "code",
   "execution_count": null,
   "metadata": {},
   "outputs": [],
   "source": [
    "DataModelada = pd.read_csv(f'../Modelados/ScrapedGeologger/{FileName_DataModelada}')"
   ]
  },
  {
   "cell_type": "code",
   "execution_count": null,
   "metadata": {},
   "outputs": [],
   "source": [
    "# Add \":00\" to 'Hora' to create a minute component\n",
    "DataObservada['Hora'] = DataObservada['Hora'].astype(str) + ':00'\n",
    "\n",
    "# Combine 'Fecha' and 'Hora' into 'Fecha_y_Hora'\n",
    "DataObservada['Fecha_y_Hora'] = pd.to_datetime(DataObservada['Fecha'] + ' ' + DataObservada['Hora'], format='%d/%m/%Y %H:%M')"
   ]
  },
  {
   "cell_type": "code",
   "execution_count": null,
   "metadata": {},
   "outputs": [],
   "source": [
    "# Add \":00\" to 'Hora' to create a minute component\n",
    "DataModelada['Hora'] = DataModelada['Hora'].astype(str) + ':00'\n",
    "\n",
    "# Combine 'Fecha' and 'Hora' into 'Fecha_y_Hora'\n",
    "DataModelada['Fecha_y_Hora'] = pd.to_datetime(DataModelada['Fecha'] + ' ' + DataModelada['Hora'], format='%d/%m/%Y %H:%M')"
   ]
  },
  {
   "cell_type": "code",
   "execution_count": null,
   "metadata": {},
   "outputs": [],
   "source": [
    "# Merge the two dataframes on the datetime column\n",
    "df_merged = pd.merge(DataObservada[['Fecha_y_Hora', 'MP10 (µg/m³N)']], DataModelada[['Fecha_y_Hora', 'MP10 (µg/m³N)']], on='Fecha_y_Hora', suffixes=('_obs', '_pro'))\n"
   ]
  },
  {
   "cell_type": "code",
   "execution_count": null,
   "metadata": {},
   "outputs": [],
   "source": [
    "# Create 'Bueno' column\n",
    "df_merged['Bueno'] = np.where(\n",
    "    (((df_merged['MP10 (µg/m³N)_obs'] >= 0) & (df_merged['MP10 (µg/m³N)_obs'] <= 130) & \n",
    "      (df_merged['MP10 (µg/m³N)_pro'] >= 0) & (df_merged['MP10 (µg/m³N)_pro'] <= 130)) | \n",
    "     ((df_merged['MP10 (µg/m³N)_obs'] < 0) | (df_merged['MP10 (µg/m³N)_obs'] > 130) & \n",
    "      (df_merged['MP10 (µg/m³N)_pro'] < 0) | (df_merged['MP10 (µg/m³N)_pro'] > 130))), 1, 0)\n",
    "\n",
    "# Create 'Alerta1' column\n",
    "df_merged['Alerta1'] = np.where(\n",
    "    (((df_merged['MP10 (µg/m³N)_obs'] > 130) & (df_merged['MP10 (µg/m³N)_obs'] <= 180) & \n",
    "      (df_merged['MP10 (µg/m³N)_pro'] > 130) & (df_merged['MP10 (µg/m³N)_pro'] <= 180)) | \n",
    "     ((df_merged['MP10 (µg/m³N)_obs'] <= 130) | (df_merged['MP10 (µg/m³N)_obs'] > 180) & \n",
    "      (df_merged['MP10 (µg/m³N)_pro'] <= 130) | (df_merged['MP10 (µg/m³N)_pro'] > 180))), 1, 0)\n",
    "\n",
    "# Create 'Alerta2' column\n",
    "df_merged['Alerta2'] = np.where(\n",
    "    ((df_merged['MP10 (µg/m³N)_obs'] > 180) & (df_merged['MP10 (µg/m³N)_pro'] > 180)) | \n",
    "    ((df_merged['MP10 (µg/m³N)_obs'] < 180) & (df_merged['MP10 (µg/m³N)_pro'] < 180)), 1, 0)\n"
   ]
  },
  {
   "cell_type": "code",
   "execution_count": null,
   "metadata": {},
   "outputs": [],
   "source": [
    "pct_bueno = df_merged['Bueno'].sum() / len(df_merged)\n",
    "pct_alerta1 = df_merged['Alerta1'].sum() / len(df_merged)\n",
    "pct_alerta2 = df_merged['Alerta2'].sum() / len(df_merged)\n",
    "\n",
    "promedio = np.mean([pct_bueno, pct_alerta1, pct_alerta2])\n"
   ]
  },
  {
   "cell_type": "code",
   "execution_count": null,
   "metadata": {},
   "outputs": [
    {
     "name": "stdout",
     "output_type": "stream",
     "text": [
      "0.9010416666666666\n",
      "0.8828125\n",
      "0.7552083333333334\n",
      "0.8463541666666666\n"
     ]
    }
   ],
   "source": [
    "print(pct_bueno)\n",
    "print(pct_alerta1)\n",
    "print(pct_alerta2)\n",
    "\n",
    "print(promedio)"
   ]
  }
 ],
 "metadata": {
  "language_info": {
   "name": "python"
  }
 },
 "nbformat": 4,
 "nbformat_minor": 2
}

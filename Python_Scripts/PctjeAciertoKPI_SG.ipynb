{
 "cells": [
  {
   "cell_type": "code",
   "execution_count": 1,
   "id": "15250d68-471b-4217-9f11-56f03d62994c",
   "metadata": {},
   "outputs": [],
   "source": [
    "import numpy as np\n",
    "import pandas as pd\n",
    "import os\n",
    "import shutil\n",
    "from selenium import webdriver\n",
    "from selenium.webdriver.common.by import By\n",
    "from selenium.webdriver.common.keys import Keys\n",
    "from selenium.webdriver.support.ui import WebDriverWait\n",
    "from selenium.webdriver.support import expected_conditions as EC\n",
    "from selenium.webdriver.chrome.options import Options"
   ]
  },
  {
   "cell_type": "code",
   "execution_count": 15,
   "id": "03597129-7038-47f6-8a41-ca7470bb961f",
   "metadata": {},
   "outputs": [],
   "source": [
    "FechaInicio = '20/10/2023'\n",
    "FechaFinal = '20/11/2023'"
   ]
  },
  {
   "cell_type": "code",
   "execution_count": 3,
   "id": "4d9bc41b-b953-4149-8ced-eba5fa748460",
   "metadata": {},
   "outputs": [],
   "source": [
    "# Set the desired download folder path\n",
    "download_folder = '/Users/cristobal512/Desktop/geoaire/SIERRA_GORDA/Modelados/ScrapedGeologger'"
   ]
  },
  {
   "cell_type": "code",
   "execution_count": 4,
   "id": "82be53b7-504c-48a8-8d0f-c88352835310",
   "metadata": {},
   "outputs": [],
   "source": [
    "# Configure Chrome options\n",
    "chrome_options = Options()\n",
    "chrome_options.add_argument('--no-sandbox')\n",
    "chrome_options.add_argument('--disable-dev-shm-usage')\n",
    "chrome_options.add_argument('--disable-gpu')\n",
    "chrome_options.add_argument('--disable-extensions')\n",
    "chrome_options.add_argument('--disable-popup-blocking')\n",
    "chrome_options.add_argument('--disable-infobars')\n",
    "chrome_options.add_argument(f'--download.default_directory={download_folder}')"
   ]
  },
  {
   "cell_type": "code",
   "execution_count": 7,
   "id": "b44d5232-b119-4c72-a0d5-b5b080e424ee",
   "metadata": {},
   "outputs": [],
   "source": [
    "# Initialize the driver with the configured options\n",
    "driver = webdriver.Chrome(options=chrome_options)"
   ]
  },
  {
   "cell_type": "code",
   "execution_count": 8,
   "id": "97a40b38-2927-433e-89a4-46cf79dd0287",
   "metadata": {},
   "outputs": [],
   "source": [
    "# navigate to the login page\n",
    "driver.get('https://www.geoaire.cl/geologger')"
   ]
  },
  {
   "cell_type": "code",
   "execution_count": null,
   "id": "805223f9-9569-4604-bcc3-fc2da7758522",
   "metadata": {},
   "outputs": [],
   "source": [
    "# find the login form\n",
    "username_field = driver.find_element(By.ID, 'id_form_login:nombre')\n",
    "password_field = driver.find_element(By.ID, 'id_form_login:password')"
   ]
  },
  {
   "cell_type": "code",
   "execution_count": null,
   "id": "d81dba45-7682-4875-b306-d22161744dc2",
   "metadata": {},
   "outputs": [],
   "source": [
    "# fill out the form\n",
    "username_field.send_keys('Cristobal512')  # replace with your own username\n",
    "password_field.send_keys('cris512')  # replace with your own password"
   ]
  },
  {
   "cell_type": "code",
   "execution_count": 14,
   "id": "38f05c93-9c6b-4d2a-9322-c31928e504a7",
   "metadata": {},
   "outputs": [],
   "source": [
    "# submit the form\n",
    "password_field.send_keys(Keys.RETURN)"
   ]
  },
  {
   "cell_type": "code",
   "execution_count": 15,
   "id": "fe9d9059-5f1f-41d8-b842-6a66d7cb7c4f",
   "metadata": {},
   "outputs": [],
   "source": [
    "# Assuming that `id_form_login:idEmpresa_panel` is the id of the dropdown element\n",
    "dropdown = WebDriverWait(driver, 20).until(EC.element_to_be_clickable((By.ID, 'id_form_login:idEmpresa_label')))\n",
    "dropdown.click()"
   ]
  },
  {
   "cell_type": "code",
   "execution_count": 16,
   "id": "06662e59-a981-445b-8c74-d739024f419c",
   "metadata": {},
   "outputs": [],
   "source": [
    "# Now the dropdown should be open. Let's find the option we want to select.\n",
    "# Assuming `id_form_login:idEmpresa_6` is the id of the 'Minera Sierra Gorda' option\n",
    "option = WebDriverWait(driver, 20).until(EC.element_to_be_clickable((By.ID, 'id_form_login:idEmpresa_6')))\n",
    "option.click()"
   ]
  },
  {
   "cell_type": "code",
   "execution_count": 17,
   "id": "af038147-8254-4b57-8b00-9460f7132a63",
   "metadata": {},
   "outputs": [],
   "source": [
    "# Find the button and click it\n",
    "button = WebDriverWait(driver, 20).until(EC.element_to_be_clickable((By.ID, 'id_form_login:botonRedireccion')))\n",
    "button.click()"
   ]
  },
  {
   "cell_type": "code",
   "execution_count": 18,
   "id": "c2e7da46-f13c-478a-b05d-c0f2aee07999",
   "metadata": {},
   "outputs": [],
   "source": [
    "# Assuming that \"Información Ambiental\" is a button, not a dropdown\n",
    "dropdown_button = WebDriverWait(driver, 20).until(EC.element_to_be_clickable((By.XPATH, \"//span[text()='Información Ambiental']\")))\n",
    "dropdown_button.click()"
   ]
  },
  {
   "cell_type": "code",
   "execution_count": 19,
   "id": "bc243bd8-6bfb-4e49-a1e3-a2ebedbdc36c",
   "metadata": {},
   "outputs": [],
   "source": [
    "# Now the dropdown should be open. Let's find the option we want to select.\n",
    "# Since \"Calidad Aire\" is nested, you need to open its parent dropdown too\n",
    "parent_option = WebDriverWait(driver, 20).until(EC.element_to_be_clickable((By.XPATH, \"//span[text()='Calidad Aire']\")))\n",
    "parent_option.click()"
   ]
  },
  {
   "cell_type": "code",
   "execution_count": 20,
   "id": "7a588ad9-4782-4315-9604-0dc660db5c80",
   "metadata": {},
   "outputs": [],
   "source": [
    "# After opening the 'Calidad Aire' dropdown, find the 'Data Continua' option and click it\n",
    "data_continua_option = WebDriverWait(driver, 20).until(EC.element_to_be_clickable((By.XPATH, \"//span[text()='Data Continua']\")))\n",
    "data_continua_option.click()"
   ]
  },
  {
   "cell_type": "code",
   "execution_count": 21,
   "id": "d0befb7b-00ee-487e-8f7b-736d952d80ee",
   "metadata": {},
   "outputs": [],
   "source": [
    "# Now the 'Data Continua' dropdown should be open. Find the 'Registros' option and click it\n",
    "registros_option = WebDriverWait(driver, 20).until(EC.element_to_be_clickable((By.XPATH, \"//a[@href='/geologger/paginas/variables_calidad_aire_hora.xhtml']\")))\n",
    "registros_option.click()"
   ]
  },
  {
   "cell_type": "code",
   "execution_count": 22,
   "id": "e0879a83-b474-4530-86b9-7612b91618e8",
   "metadata": {},
   "outputs": [],
   "source": [
    "# Assuming that `form_variables_estacion:select_estacion` is the id of the dropdown element\n",
    "dropdown = WebDriverWait(driver, 20).until(EC.element_to_be_clickable((By.ID, 'form_variables_estacion:select_estacion')))\n",
    "dropdown.click()"
   ]
  },
  {
   "cell_type": "code",
   "execution_count": 23,
   "id": "aa134b70-3e28-4fdb-b8e4-aa022373b698",
   "metadata": {},
   "outputs": [],
   "source": [
    "# Now the dropdown should be open. Let's find the option we want to select.\n",
    "# Assuming `form_variables_estacion:select_estacion_8` is the id of the 'Sierra Gorda-PRO' option\n",
    "option = WebDriverWait(driver, 20).until(EC.element_to_be_clickable((By.ID, 'form_variables_estacion:select_estacion_8')))\n",
    "option.click()"
   ]
  },
  {
   "cell_type": "code",
   "execution_count": 24,
   "id": "bc045f73",
   "metadata": {},
   "outputs": [],
   "source": [
    "element = driver.find_element(By.CSS_SELECTOR, \"div.ui-selectonemenu-trigger.ui-state-default.ui-corner-right\")\n",
    "element.click()\n"
   ]
  },
  {
   "cell_type": "code",
   "execution_count": 26,
   "id": "c4491a3a-4ecc-42d6-9f98-4764fb46ca11",
   "metadata": {},
   "outputs": [],
   "source": [
    "# Find the dropdown and click on it\n",
    "dropdown = WebDriverWait(driver, 20).until(EC.element_to_be_clickable((By.ID, 'form_variables_estacion:Contaminante')))\n",
    "dropdown.click()"
   ]
  },
  {
   "cell_type": "code",
   "execution_count": 27,
   "id": "3dab2bfe-da78-4c80-9191-fefb8d38edc3",
   "metadata": {},
   "outputs": [],
   "source": [
    "option = WebDriverWait(driver, 20).until(EC.element_to_be_clickable((By.XPATH, '//li[@data-item-value=\"8\"]')))\n",
    "option.click()"
   ]
  },
  {
   "cell_type": "code",
   "execution_count": 28,
   "id": "fd6a2667-731a-4fbb-8939-ea37fbbd5cc4",
   "metadata": {},
   "outputs": [],
   "source": [
    "close_button = WebDriverWait(driver, 20).until(EC.element_to_be_clickable((By.XPATH, '//span[@class=\"ui-icon ui-icon-circle-close\"]')))\n",
    "close_button.click()"
   ]
  },
  {
   "cell_type": "code",
   "execution_count": 29,
   "id": "248532cd-4b5c-41d5-b49c-6872e31576f9",
   "metadata": {},
   "outputs": [],
   "source": [
    "initial_date = WebDriverWait(driver, 20).until(EC.element_to_be_clickable((By.ID, \"form_variables_estacion:calendar_fecha_inicio_input\")))\n",
    "initial_date.clear()  # this will clear the input field\n",
    "initial_date.send_keys(FechaInicio)  # this will type in the date you specified"
   ]
  },
  {
   "cell_type": "code",
   "execution_count": 30,
   "id": "785503f5-1021-4a9f-a212-9c9b9779f20d",
   "metadata": {},
   "outputs": [],
   "source": [
    "driver.execute_script(\"$('.ui-datepicker').hide();\")"
   ]
  },
  {
   "cell_type": "code",
   "execution_count": 31,
   "id": "1d3ea23d-56c9-4e1d-9207-3697917d7046",
   "metadata": {},
   "outputs": [],
   "source": [
    "end_date = WebDriverWait(driver, 20).until(EC.element_to_be_clickable((By.XPATH, \"//input[@id='form_variables_estacion:calendar_fecha_fin_input']\")))\n",
    "end_date.clear()\n",
    "end_date.send_keys(FechaFinal)"
   ]
  },
  {
   "cell_type": "code",
   "execution_count": 32,
   "id": "4887b6ef-7694-4786-afed-2b87feb6df85",
   "metadata": {},
   "outputs": [],
   "source": [
    "driver.execute_script(\"$('.ui-datepicker').hide();\")"
   ]
  },
  {
   "cell_type": "code",
   "execution_count": 33,
   "id": "784d0b0c-8164-4ccc-a097-8f9fe93412a9",
   "metadata": {},
   "outputs": [],
   "source": [
    "buscar_button = WebDriverWait(driver, 20).until(EC.element_to_be_clickable((By.ID, \"form_variables_estacion:j_idt55\")))\n",
    "buscar_button.click()"
   ]
  },
  {
   "cell_type": "code",
   "execution_count": 34,
   "id": "23abf732-16bf-475c-b761-bb93fd0d13e9",
   "metadata": {},
   "outputs": [],
   "source": [
    "csv_button = driver.find_element(By.ID, \"form_variables_estacion:datatable_registros:comandLink_csv\")\n",
    "csv_button.click()"
   ]
  },
  {
   "cell_type": "code",
   "execution_count": 35,
   "id": "11c5b108-f131-4f7f-90dc-5ecc1a3b84cc",
   "metadata": {},
   "outputs": [
    {
     "data": {
      "text/plain": [
       "'/Users/cristobal512/Desktop/JupyterLab/../geoaire/SIERRA_GORDA/Modelados/ScrapedGeologger/calidad-aire-dia-hora_Sierra_Gorda-PRO_20-09-2023_a_20-10-2023.csv'"
      ]
     },
     "execution_count": 35,
     "metadata": {},
     "output_type": "execute_result"
    }
   ],
   "source": [
    "# Downloads folder\n",
    "download_folder = '/Users/cristobal512/Downloads'\n",
    "\n",
    "# Get the latest file in the default download folder\n",
    "latest_file = max([os.path.join(download_folder, f) for f in os.listdir(download_folder)], key=os.path.getctime)\n",
    "\n",
    "# Specify the destination folder where you want to move the file\n",
    "destination_folder = '/Users/cristobal512/Desktop/JupyterLab/../geoaire/SIERRA_GORDA/Modelados/ScrapedGeologger'\n",
    "\n",
    "# Move the downloaded file to the destination folder\n",
    "shutil.move(latest_file, destination_folder)"
   ]
  },
  {
   "cell_type": "code",
   "execution_count": 36,
   "id": "880993bf-69db-47ed-bd24-f0ee518cc00d",
   "metadata": {},
   "outputs": [],
   "source": [
    "# Assuming that `form_variables_estacion:select_estacion` is the id of the dropdown element\n",
    "dropdown = WebDriverWait(driver, 20).until(EC.element_to_be_clickable((By.ID, 'form_variables_estacion:select_estacion')))\n",
    "dropdown.click()"
   ]
  },
  {
   "cell_type": "code",
   "execution_count": 37,
   "id": "2a57c870-486f-47b1-a293-3f4fa5723d6b",
   "metadata": {},
   "outputs": [],
   "source": [
    "# Now the dropdown should be open. Let's find the option we want to select.\n",
    "# Assuming `form_variables_estacion:select_estacion_8` is the id of the 'Sierra Gorda-PRO' option\n",
    "option = WebDriverWait(driver, 20).until(EC.element_to_be_clickable((By.ID, 'form_variables_estacion:select_estacion_7')))\n",
    "option.click()"
   ]
  },
  {
   "cell_type": "code",
   "execution_count": 38,
   "id": "1a2358ab-f616-4e87-99d2-15c85e8720ab",
   "metadata": {},
   "outputs": [],
   "source": [
    "# Find the dropdown and click on it\n",
    "dropdown = WebDriverWait(driver, 20).until(EC.element_to_be_clickable((By.ID, 'form_variables_estacion:Contaminante')))\n",
    "dropdown.click()"
   ]
  },
  {
   "cell_type": "code",
   "execution_count": 39,
   "id": "24940c8d-7c42-41a5-b3dd-75c5618c6fb1",
   "metadata": {},
   "outputs": [],
   "source": [
    "option = WebDriverWait(driver, 20).until(EC.element_to_be_clickable((By.XPATH, '//li[@data-item-value=\"8\"]')))\n",
    "option.click()"
   ]
  },
  {
   "cell_type": "code",
   "execution_count": 40,
   "id": "ca13f793-21bd-4dc8-b862-86f5781e355f",
   "metadata": {},
   "outputs": [],
   "source": [
    "close_button = WebDriverWait(driver, 20).until(EC.element_to_be_clickable((By.XPATH, '//span[@class=\"ui-icon ui-icon-circle-close\"]')))\n",
    "close_button.click()"
   ]
  },
  {
   "cell_type": "code",
   "execution_count": 41,
   "id": "446ee269-244b-4371-836b-ec96f4dcfbf0",
   "metadata": {},
   "outputs": [],
   "source": [
    "buscar_button = WebDriverWait(driver, 20).until(EC.element_to_be_clickable((By.ID, \"form_variables_estacion:j_idt55\")))\n",
    "buscar_button.click()"
   ]
  },
  {
   "cell_type": "code",
   "execution_count": 42,
   "id": "a570408e-8940-49f2-b99c-448f4d87fb06",
   "metadata": {},
   "outputs": [],
   "source": [
    "csv_button = driver.find_element(By.ID, \"form_variables_estacion:datatable_registros:comandLink_csv\")\n",
    "csv_button.click()"
   ]
  },
  {
   "cell_type": "code",
   "execution_count": 43,
   "id": "73ec975b-94f5-42ce-ac39-cd5d653d461c",
   "metadata": {},
   "outputs": [
    {
     "data": {
      "text/plain": [
       "'/Users/cristobal512/Desktop/JupyterLab/../geoaire/SIERRA_GORDA/Observados/ScrapedGeologger/calidad-aire-dia-hora_Sierra_Gorda_20-09-2023_a_20-10-2023.csv'"
      ]
     },
     "execution_count": 43,
     "metadata": {},
     "output_type": "execute_result"
    }
   ],
   "source": [
    "# Get the latest file in the default download folder\n",
    "latest_file = max([os.path.join(download_folder, f) for f in os.listdir(download_folder)], key=os.path.getctime)\n",
    "\n",
    "# Specify the destination folder where you want to move the file\n",
    "destination_folder = '/Users/cristobal512/Desktop/JupyterLab/../geoaire/SIERRA_GORDA/Observados/ScrapedGeologger'\n",
    "\n",
    "# Move the downloaded file to the destination folder\n",
    "shutil.move(latest_file, destination_folder)"
   ]
  },
  {
   "cell_type": "code",
   "execution_count": 16,
   "id": "42df6ec5-167f-4bfc-b81a-ff4a8f16e692",
   "metadata": {},
   "outputs": [],
   "source": [
    "FechaComienzo = FechaInicio.replace('/', '-')\n",
    "FechaTermino = FechaFinal.replace('/', '-')"
   ]
  },
  {
   "cell_type": "code",
   "execution_count": 17,
   "id": "e79a2f17-26bc-4070-890d-abce6ab07d46",
   "metadata": {},
   "outputs": [],
   "source": [
    "FileName_DataObservada = f\"calidad-aire-dia-hora_Sierra_Gorda_{FechaComienzo}_a_{FechaTermino}.csv\""
   ]
  },
  {
   "cell_type": "code",
   "execution_count": 18,
   "id": "0d412939-3c0f-4fed-80c7-df72f6a26c2b",
   "metadata": {},
   "outputs": [],
   "source": [
    "FileName_DataModelada = f\"calidad-aire-dia-hora_Sierra_Gorda-PRO_{FechaComienzo}_a_{FechaTermino}.csv\""
   ]
  },
  {
   "cell_type": "code",
   "execution_count": 19,
   "id": "a2df314d-0ce8-4ceb-a011-ff74c151d6bd",
   "metadata": {},
   "outputs": [],
   "source": [
    "DataObservada = pd.read_csv(f'../Observados/ScrapedGeologger/{FileName_DataObservada}')"
   ]
  },
  {
   "cell_type": "code",
   "execution_count": 20,
   "id": "c333f3b6-8f69-4e4d-9971-879b59737851",
   "metadata": {},
   "outputs": [],
   "source": [
    "DataModelada = pd.read_csv(f'../Modelados/ScrapedGeologger/{FileName_DataModelada}')"
   ]
  },
  {
   "cell_type": "code",
   "execution_count": 21,
   "id": "2cbaf034-00f7-4a16-848a-e58cb16f18de",
   "metadata": {},
   "outputs": [],
   "source": [
    "# Add \":00\" to 'Hora' to create a minute component\n",
    "DataObservada['Hora'] = DataObservada['Hora'].astype(str) + ':00'\n",
    "\n",
    "# Combine 'Fecha' and 'Hora' into 'Fecha_y_Hora'\n",
    "DataObservada['Fecha_y_Hora'] = pd.to_datetime(DataObservada['Fecha'] + ' ' + DataObservada['Hora'], format='%d/%m/%Y %H:%M')"
   ]
  },
  {
   "cell_type": "code",
   "execution_count": 22,
   "id": "2395f7cb-b30e-4114-a63a-679fd57ffc38",
   "metadata": {},
   "outputs": [],
   "source": [
    "# Add \":00\" to 'Hora' to create a minute component\n",
    "DataModelada['Hora'] = DataModelada['Hora'].astype(str) + ':00'\n",
    "\n",
    "# Combine 'Fecha' and 'Hora' into 'Fecha_y_Hora'\n",
    "DataModelada['Fecha_y_Hora'] = pd.to_datetime(DataModelada['Fecha'] + ' ' + DataModelada['Hora'], format='%d/%m/%Y %H:%M')"
   ]
  },
  {
   "cell_type": "code",
   "execution_count": 23,
   "id": "e30a761e-9001-46c8-a276-9c2c7a6a8afc",
   "metadata": {},
   "outputs": [],
   "source": [
    "# Merge the two dataframes on the datetime column\n",
    "df_merged = pd.merge(DataObservada[['Fecha_y_Hora', 'MP10 (µg/m³N)']], DataModelada[['Fecha_y_Hora', 'MP10 (µg/m³N)']], on='Fecha_y_Hora', suffixes=('_obs', '_pro'))\n"
   ]
  },
  {
   "cell_type": "code",
   "execution_count": 24,
   "id": "d2f3cc50",
   "metadata": {},
   "outputs": [],
   "source": [
    "# Create 'Bueno' column\n",
    "df_merged['Bueno'] = np.where(\n",
    "    (((df_merged['MP10 (µg/m³N)_obs'] >= 0) & (df_merged['MP10 (µg/m³N)_obs'] <= 130) & \n",
    "      (df_merged['MP10 (µg/m³N)_pro'] >= 0) & (df_merged['MP10 (µg/m³N)_pro'] <= 130)) | \n",
    "     ((df_merged['MP10 (µg/m³N)_obs'] < 0) | (df_merged['MP10 (µg/m³N)_obs'] > 130) & \n",
    "      (df_merged['MP10 (µg/m³N)_pro'] < 0) | (df_merged['MP10 (µg/m³N)_pro'] > 130))), 1, 0)\n",
    "\n",
    "# Create 'Alerta1' column\n",
    "df_merged['Alerta1'] = np.where(\n",
    "    (((df_merged['MP10 (µg/m³N)_obs'] > 130) & (df_merged['MP10 (µg/m³N)_obs'] <= 180) & \n",
    "      (df_merged['MP10 (µg/m³N)_pro'] > 130) & (df_merged['MP10 (µg/m³N)_pro'] <= 180)) | \n",
    "     ((df_merged['MP10 (µg/m³N)_obs'] <= 130) | (df_merged['MP10 (µg/m³N)_obs'] > 180) & \n",
    "      (df_merged['MP10 (µg/m³N)_pro'] <= 130) | (df_merged['MP10 (µg/m³N)_pro'] > 180))), 1, 0)\n",
    "\n",
    "# Create 'Alerta2' column\n",
    "df_merged['Alerta2'] = np.where(\n",
    "    ((df_merged['MP10 (µg/m³N)_obs'] > 180) & (df_merged['MP10 (µg/m³N)_pro'] > 180)) | \n",
    "    ((df_merged['MP10 (µg/m³N)_obs'] < 180) & (df_merged['MP10 (µg/m³N)_pro'] < 180)), 1, 0)\n"
   ]
  },
  {
   "cell_type": "code",
   "execution_count": 25,
   "id": "6442dfee",
   "metadata": {},
   "outputs": [],
   "source": [
    "pct_bueno = df_merged['Bueno'].sum() / len(df_merged)\n",
    "pct_alerta1 = df_merged['Alerta1'].sum() / len(df_merged)\n",
    "pct_alerta2 = df_merged['Alerta2'].sum() / len(df_merged)\n",
    "\n",
    "promedio = np.mean([pct_bueno, pct_alerta1, pct_alerta2])\n"
   ]
  },
  {
   "cell_type": "code",
   "execution_count": 26,
   "id": "08a636da",
   "metadata": {},
   "outputs": [
    {
     "name": "stdout",
     "output_type": "stream",
     "text": [
      "0.9010416666666666\n",
      "0.8828125\n",
      "0.7552083333333334\n",
      "0.8463541666666666\n"
     ]
    }
   ],
   "source": [
    "print(pct_bueno)\n",
    "print(pct_alerta1)\n",
    "print(pct_alerta2)\n",
    "\n",
    "print(promedio)"
   ]
  },
  {
   "cell_type": "code",
   "execution_count": null,
   "id": "7815bd06",
   "metadata": {},
   "outputs": [],
   "source": []
  }
 ],
 "metadata": {
  "kernelspec": {
   "display_name": "Python 3 (ipykernel)",
   "language": "python",
   "name": "python3"
  },
  "language_info": {
   "codemirror_mode": {
    "name": "ipython",
    "version": 3
   },
   "file_extension": ".py",
   "mimetype": "text/x-python",
   "name": "python",
   "nbconvert_exporter": "python",
   "pygments_lexer": "ipython3",
   "version": "3.10.13"
  }
 },
 "nbformat": 4,
 "nbformat_minor": 5
}

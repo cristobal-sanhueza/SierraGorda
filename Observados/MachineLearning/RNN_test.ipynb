{
 "cells": [
  {
   "cell_type": "code",
   "execution_count": 18,
   "id": "1d41d10a-e253-4387-a217-ff257c89a3ff",
   "metadata": {},
   "outputs": [],
   "source": [
    "import os\n",
    "import pandas as pd\n",
    "import numpy as np\n",
    "from sklearn.preprocessing import StandardScaler\n",
    "from sklearn.model_selection import train_test_split"
   ]
  },
  {
   "cell_type": "code",
   "execution_count": 2,
   "id": "bcc2a861-5f3a-4646-94df-0da7b49045a0",
   "metadata": {},
   "outputs": [
    {
     "data": {
      "text/plain": [
       "'/Users/cristobal512/Desktop/geoaire/GeoaireProject/GeoAire/SIERRA_GORDA/Observados/MachineLearning'"
      ]
     },
     "execution_count": 2,
     "metadata": {},
     "output_type": "execute_result"
    }
   ],
   "source": [
    "os.getcwd()"
   ]
  },
  {
   "cell_type": "code",
   "execution_count": 4,
   "id": "1848a03c-bd2e-4498-bf91-b6d0c9e550d9",
   "metadata": {},
   "outputs": [],
   "source": [
    "# Read the CSV file into a pandas dataframe\n",
    "SG_Obs_MetMP10_2016_2022 = pd.read_csv(\"SG_Obs_MetMP10_2016_2022.csv\")"
   ]
  },
  {
   "cell_type": "code",
   "execution_count": 8,
   "id": "3ec8af80-07ed-49b2-baba-f322db0f6095",
   "metadata": {},
   "outputs": [
    {
     "name": "stdout",
     "output_type": "stream",
     "text": [
      "            DateAndTime    DV  TEMP   VV  MP10\n",
      "0  2016-05-01T03:00:00Z  55.6  13.6  1.8  36.1\n",
      "1  2016-05-01T04:00:00Z  22.8  13.2  1.5  23.3\n",
      "2  2016-05-01T05:00:00Z  40.4  13.1  2.5  24.4\n",
      "3  2016-05-01T06:00:00Z  35.0  12.2  2.8  32.5\n",
      "4  2016-05-01T07:00:00Z  20.0  12.0  2.0  24.3\n"
     ]
    }
   ],
   "source": [
    "# View the first 5 rows of the dataframe\n",
    "print(SG_Obs_MetMP10_2016_2022.head())"
   ]
  },
  {
   "cell_type": "code",
   "execution_count": 6,
   "id": "f7b0c706-f8de-4483-8b5c-5e6025b206b9",
   "metadata": {},
   "outputs": [
    {
     "name": "stdout",
     "output_type": "stream",
     "text": [
      "DateAndTime     object\n",
      "DV             float64\n",
      "TEMP           float64\n",
      "VV             float64\n",
      "MP10           float64\n",
      "dtype: object\n"
     ]
    }
   ],
   "source": [
    "print(SG_Obs_MetMP10_2016_2022.dtypes)"
   ]
  },
  {
   "cell_type": "code",
   "execution_count": 10,
   "id": "f5e12e9b-e4c1-48d8-895d-d0df8bb5038a",
   "metadata": {},
   "outputs": [],
   "source": [
    "# Convert the DateAndTime column to a datetime data type\n",
    "SG_Obs_MetMP10_2016_2022['DateAndTime'] = pd.to_datetime(SG_Obs_MetMP10_2016_2022['DateAndTime'], format='%Y-%m-%dT%H:%M:%SZ')"
   ]
  },
  {
   "cell_type": "code",
   "execution_count": 11,
   "id": "b0338a74-4736-4719-b665-f9e99891926e",
   "metadata": {},
   "outputs": [
    {
     "name": "stdout",
     "output_type": "stream",
     "text": [
      "          DateAndTime    DV  TEMP   VV  MP10\n",
      "0 2016-05-01 03:00:00  55.6  13.6  1.8  36.1\n",
      "1 2016-05-01 04:00:00  22.8  13.2  1.5  23.3\n",
      "2 2016-05-01 05:00:00  40.4  13.1  2.5  24.4\n",
      "3 2016-05-01 06:00:00  35.0  12.2  2.8  32.5\n",
      "4 2016-05-01 07:00:00  20.0  12.0  2.0  24.3\n"
     ]
    }
   ],
   "source": [
    "# View the first 5 rows of the dataframe\n",
    "print(SG_Obs_MetMP10_2016_2022.head())"
   ]
  },
  {
   "cell_type": "code",
   "execution_count": 12,
   "id": "a6ed7912-bb71-4a8d-90af-40fd1db9e384",
   "metadata": {},
   "outputs": [
    {
     "name": "stdout",
     "output_type": "stream",
     "text": [
      "DateAndTime    datetime64[ns]\n",
      "DV                    float64\n",
      "TEMP                  float64\n",
      "VV                    float64\n",
      "MP10                  float64\n",
      "dtype: object\n"
     ]
    }
   ],
   "source": [
    "print(SG_Obs_MetMP10_2016_2022.dtypes)"
   ]
  },
  {
   "cell_type": "code",
   "execution_count": 15,
   "id": "30e767f9-5429-4de3-a3aa-fda93e6d3f37",
   "metadata": {},
   "outputs": [],
   "source": [
    "# Define the number of time steps for each input sequence\n",
    "n_steps = 24"
   ]
  },
  {
   "cell_type": "code",
   "execution_count": 16,
   "id": "67022359-4b22-45e0-9a49-79c2a96e1644",
   "metadata": {},
   "outputs": [],
   "source": [
    "# Split the data into training and testing sets\n",
    "X_train, X_test, y_train, y_test = train_test_split(X, y, test_size=0.2, random_state=42)"
   ]
  },
  {
   "cell_type": "code",
   "execution_count": 17,
   "id": "5ea45c8d-7b20-408f-b8e5-3b80bbc4b351",
   "metadata": {},
   "outputs": [
    {
     "name": "stderr",
     "output_type": "stream",
     "text": [
      "/var/folders/n4/1g9ynk353g94783l60pd1q8w0000gn/T/ipykernel_19727/1879834432.py:3: SettingWithCopyWarning: \n",
      "A value is trying to be set on a copy of a slice from a DataFrame.\n",
      "Try using .loc[row_indexer,col_indexer] = value instead\n",
      "\n",
      "See the caveats in the documentation: https://pandas.pydata.org/pandas-docs/stable/user_guide/indexing.html#returning-a-view-versus-a-copy\n",
      "  train_df[['DV', 'TEMP', 'VV', 'MP10']] = scaler.fit_transform(train_df[['DV', 'TEMP', 'VV', 'MP10']])\n",
      "/var/folders/n4/1g9ynk353g94783l60pd1q8w0000gn/T/ipykernel_19727/1879834432.py:4: SettingWithCopyWarning: \n",
      "A value is trying to be set on a copy of a slice from a DataFrame.\n",
      "Try using .loc[row_indexer,col_indexer] = value instead\n",
      "\n",
      "See the caveats in the documentation: https://pandas.pydata.org/pandas-docs/stable/user_guide/indexing.html#returning-a-view-versus-a-copy\n",
      "  test_df[['DV', 'TEMP', 'VV', 'MP10']] = scaler.transform(test_df[['DV', 'TEMP', 'VV', 'MP10']])\n"
     ]
    }
   ],
   "source": [
    "# Normalize the input data\n",
    "scaler = StandardScaler()\n",
    "train_df[['DV', 'TEMP', 'VV', 'MP10']] = scaler.fit_transform(train_df[['DV', 'TEMP', 'VV', 'MP10']])\n",
    "test_df[['DV', 'TEMP', 'VV', 'MP10']] = scaler.transform(test_df[['DV', 'TEMP', 'VV', 'MP10']])"
   ]
  },
  {
   "cell_type": "code",
   "execution_count": null,
   "id": "e8d42c16-eaeb-4ae1-9ecc-d487639587cb",
   "metadata": {},
   "outputs": [],
   "source": [
    "# Use a sliding window approach to create input/output sequences\n",
    "def create_sequences(data, n_steps):\n",
    "    X = []\n",
    "    y = []\n",
    "    for i in range(len(data)-n_steps):\n",
    "        X.append(data[i:i+n_steps, :-1])\n",
    "        y.append(data[i+n_steps, -1])\n",
    "    return np.array(X), np.array(y)"
   ]
  },
  {
   "cell_type": "code",
   "execution_count": null,
   "id": "8240e22e-1027-45fe-b01f-723bc6e9b97b",
   "metadata": {},
   "outputs": [],
   "source": [
    "train_data = train_df[['DV', 'TEMP', 'VV', 'MP10']].values\n",
    "test_data = test_df[['DV', 'TEMP', 'VV', 'MP10']].values"
   ]
  },
  {
   "cell_type": "code",
   "execution_count": null,
   "id": "5171113e-3c7a-4482-9b1c-3b4bc61eb118",
   "metadata": {},
   "outputs": [],
   "source": [
    "X_train, y_train = create_sequences(train_data, n_steps)\n",
    "X_test, y_test = create_sequences(test_data, n_steps)"
   ]
  },
  {
   "cell_type": "code",
   "execution_count": null,
   "id": "db5ade0e-fcce-48e1-b441-583939fe3d1e",
   "metadata": {},
   "outputs": [],
   "source": [
    "# Convert the data to the format required by an RNN model\n",
    "n_features = X_train.shape[2]\n",
    "X_train = X_train.reshape((X_train.shape[0], X_train.shape[1], n_features))\n",
    "X_test = X_test.reshape((X_test.shape[0], X_test.shape[1], n_features))"
   ]
  },
  {
   "cell_type": "code",
   "execution_count": null,
   "id": "f493db88-4ef0-4875-ad26-0c2ff69a5904",
   "metadata": {},
   "outputs": [],
   "source": []
  },
  {
   "cell_type": "code",
   "execution_count": null,
   "id": "5689c70e-63a4-4739-8e46-bd7c18c54243",
   "metadata": {},
   "outputs": [],
   "source": []
  },
  {
   "cell_type": "code",
   "execution_count": null,
   "id": "4ee22d45-745e-4a36-8caf-41c869bd7ff1",
   "metadata": {},
   "outputs": [],
   "source": []
  }
 ],
 "metadata": {
  "kernelspec": {
   "display_name": "Python 3 (ipykernel)",
   "language": "python",
   "name": "python3"
  },
  "language_info": {
   "codemirror_mode": {
    "name": "ipython",
    "version": 3
   },
   "file_extension": ".py",
   "mimetype": "text/x-python",
   "name": "python",
   "nbconvert_exporter": "python",
   "pygments_lexer": "ipython3",
   "version": "3.10.9"
  }
 },
 "nbformat": 4,
 "nbformat_minor": 5
}
